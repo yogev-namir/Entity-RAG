{
 "cells": [
  {
   "cell_type": "code",
   "execution_count": 24,
   "id": "initial_id",
   "metadata": {
    "collapsed": true,
    "ExecuteTime": {
     "end_time": "2024-10-22T14:57:13.493861300Z",
     "start_time": "2024-10-22T14:57:13.488297Z"
    }
   },
   "outputs": [],
   "source": [
    "import spacy\n",
    "import json\n",
    "import pandas as pd\n",
    "from transformers import AutoTokenizer, AutoModelForTokenClassification\n",
    "from transformers import pipeline\n",
    "import nltk\n",
    "from nltk.corpus import stopwords\n",
    "from nltk.tokenize import word_tokenize"
   ]
  },
  {
   "cell_type": "code",
   "execution_count": 25,
   "outputs": [],
   "source": [
    "nlp = spacy.load(\"en_core_med7_lg\")"
   ],
   "metadata": {
    "collapsed": false,
    "ExecuteTime": {
     "end_time": "2024-10-22T14:57:15.881254Z",
     "start_time": "2024-10-22T14:57:14.400371200Z"
    }
   },
   "id": "285bbd626741b893"
  },
  {
   "cell_type": "code",
   "execution_count": 4,
   "outputs": [],
   "source": [
    "show_prints = True\n",
    "to_csv = False\n",
    "create_df = True"
   ],
   "metadata": {
    "collapsed": false,
    "ExecuteTime": {
     "end_time": "2024-10-22T14:51:00.059101Z",
     "start_time": "2024-10-22T14:51:00.051815600Z"
    }
   },
   "id": "962f4f79a3cae504"
  },
  {
   "cell_type": "code",
   "execution_count": 5,
   "outputs": [],
   "source": [
    "def remove_stop_words(text, show_prints=show_prints):\n",
    "    \"\"\"\n",
    "    Convert text to lowercase and split to a list of words and remove stopwords\n",
    "    :return:\n",
    "    \"\"\"\n",
    "    tokens = word_tokenize(text)\n",
    "    english_stopwords = stopwords.words('english')\n",
    "    tokens_wo_stopwords = [t for t in tokens if t.isalpha() and t.lower() not in english_stopwords]\n",
    "    text_wo_stopwords = \" \".join(tokens_wo_stopwords)\n",
    "    if show_prints:\n",
    "        print(\"Text without stop words:\", text_wo_stopwords)\n",
    "    return text_wo_stopwords\n",
    "\n",
    "\n",
    "def json2df(file_path):\n",
    "    \"\"\"\n",
    "    file_path: str -> path to json file\n",
    "    :return:\n",
    "    \"\"\"\n",
    "    df = pd.read_json(file_path, orient='records')\n",
    "    return df"
   ],
   "metadata": {
    "collapsed": false,
    "ExecuteTime": {
     "end_time": "2024-10-22T14:51:01.717630700Z",
     "start_time": "2024-10-22T14:51:01.703990300Z"
    }
   },
   "id": "90805cd22140b015"
  },
  {
   "cell_type": "markdown",
   "source": [
    "## SpaCy"
   ],
   "metadata": {
    "collapsed": false
   },
   "id": "6fcb6901ad247dda"
  },
  {
   "cell_type": "code",
   "execution_count": 30,
   "outputs": [],
   "source": [
    "take_clean = False"
   ],
   "metadata": {
    "collapsed": false,
    "ExecuteTime": {
     "end_time": "2024-10-22T14:59:06.872265900Z",
     "start_time": "2024-10-22T14:59:06.867754200Z"
    }
   },
   "id": "30036f674ae7f1f8"
  },
  {
   "cell_type": "code",
   "execution_count": 31,
   "outputs": [],
   "source": [
    "q_col = \"cleaned_question\" if take_clean else \"question\""
   ],
   "metadata": {
    "collapsed": false,
    "ExecuteTime": {
     "end_time": "2024-10-22T14:59:07.480311200Z",
     "start_time": "2024-10-22T14:59:07.465003400Z"
    }
   },
   "id": "40f579c51752aac"
  },
  {
   "cell_type": "code",
   "execution_count": 32,
   "outputs": [],
   "source": [
    "df_path = \"dfs/medMC_df.csv\"\n",
    "med_df = pd.read_csv(df_path)"
   ],
   "metadata": {
    "collapsed": false,
    "ExecuteTime": {
     "end_time": "2024-10-22T14:59:08.051616Z",
     "start_time": "2024-10-22T14:59:07.998613800Z"
    }
   },
   "id": "d8da389f0a08f20b"
  },
  {
   "cell_type": "code",
   "execution_count": 33,
   "outputs": [],
   "source": [
    "def generate_annotation(texts):\n",
    "    annotations = []\n",
    "    for text in texts:\n",
    "        doc = nlp(text)\n",
    "        entities = []\n",
    "        print(doc)\n",
    "        for ent in doc.ents:\n",
    "            print(doc.ents)\n",
    "            entities.append((ent.start_char, ent.end_char, ent.label_))\n",
    "        annotations.append((text, {'entities': entities}))\n",
    "    return annotations"
   ],
   "metadata": {
    "collapsed": false,
    "ExecuteTime": {
     "end_time": "2024-10-22T14:59:13.828086100Z",
     "start_time": "2024-10-22T14:59:13.813733600Z"
    }
   },
   "id": "601403788a9da5c9"
  },
  {
   "cell_type": "code",
   "execution_count": 16,
   "outputs": [],
   "source": [
    "col_dict = {}\n",
    "s_colours = ['#e6194B', '#3cb44b', '#ffe119', '#ffd8b1', '#f58231', '#f032e6', '#42d4f4']\n",
    "for label, colour in zip(nlp.pipe_labels['ner'], s_colours):\n",
    "    col_dict[label] = colour\n",
    "options = {'ents': nlp.pipe_labels['ner'], 'colors': col_dict}"
   ],
   "metadata": {
    "collapsed": false,
    "ExecuteTime": {
     "end_time": "2024-10-22T14:54:14.472621300Z",
     "start_time": "2024-10-22T14:54:14.459800900Z"
    }
   },
   "id": "5a97eecafe7aaf8f"
  },
  {
   "cell_type": "code",
   "execution_count": 34,
   "outputs": [
    {
     "name": "stdout",
     "output_type": "stream",
     "text": [
      "Which of the following is not true about glomerular capillaries')\n",
      "A 29 yrs old woman with a pregnancy of 17 week has a 10 years old boy with down syndrome. She does not want another down syndrome kid; best advice to her is\n",
      "Axonal transport is:\n",
      "Low insulin to glucagon ratio is seen in all of these except:\n",
      "(insulin, glucagon)\n",
      "(insulin, glucagon)\n",
      "Concentration of tropicamide:\n",
      "(tropicamide,)\n",
      "Which of the following statements is true regarding H I N1 Influenza?\n",
      "Which of the following are not a branch of external carotid Aery in Kiesselbach's plexus.\n",
      "Diagnosis of the following ECG-\n",
      "A blue new born presents with cyanosis. The X–ray chest reveal oligaemic lung field and normal sized heart. Most likely diagnosis is –\n",
      "27.\tThe lateral spread of dental caries is facilitated mostly  by the\n",
      "A second-year PG resident tells you to perform an ABG of a patient. All of the following are true about performing an ABG except:\n",
      "Respiratory rhythm generation center is located at:\n",
      "Gait apraxia is seen in thromboembolic episode involving:\n",
      "Heavy forces on periodontal ligament causes:\n",
      "About N. gonorrhoea, all are true except\n"
     ]
    }
   ],
   "source": [
    "doc = med_df[q_col].head(15).tolist()\n",
    "annotations = generate_annotation(doc)\n",
    "if not show_prints:\n",
    "    print(f\"Document:{annotations[0][0]}\")\n",
    "    print(f\"Annotations:{annotations[0][1]}\")\n",
    "    print(annotations)\n",
    "#nlp.to_disk(annotations)"
   ],
   "metadata": {
    "collapsed": false,
    "ExecuteTime": {
     "end_time": "2024-10-22T14:59:30.538781600Z",
     "start_time": "2024-10-22T14:59:30.344514100Z"
    }
   },
   "id": "8a00072c9c358d65"
  },
  {
   "cell_type": "code",
   "execution_count": 36,
   "outputs": [
    {
     "name": "stderr",
     "output_type": "stream",
     "text": [
      "C:\\Users\\talbd\\miniconda3\\envs\\talenv\\lib\\site-packages\\spacy\\displacy\\__init__.py:206: UserWarning: [W006] No entities to visualize found in Doc object. If this is surprising to you, make sure the Doc was processed using a model that supports named entity recognition, and check the `doc.ents` property manually if necessary.\n",
      "  warnings.warn(Warnings.W006)\n"
     ]
    },
    {
     "data": {
      "text/plain": "<IPython.core.display.HTML object>",
      "text/html": "<span class=\"tex2jax_ignore\"><div class=\"entities\" style=\"line-height: 2.5; direction: ltr\">Which of the following is not true about glomerular capillaries')</div></span>"
     },
     "metadata": {},
     "output_type": "display_data"
    },
    {
     "data": {
      "text/plain": "[]"
     },
     "execution_count": 36,
     "metadata": {},
     "output_type": "execute_result"
    }
   ],
   "source": [
    "col_dict = {}\n",
    "s_colours = ['#e6194B', '#3cb44b', '#ffe119', '#ffd8b1', '#f58231', '#f032e6', '#42d4f4']\n",
    "for label, colour in zip(nlp.pipe_labels['ner'], s_colours):\n",
    "    col_dict[label] = colour\n",
    "options = {'ents': nlp.pipe_labels['ner'], 'colors': col_dict}\n",
    "qst = med_df[q_col][0]\n",
    "doc = nlp(qst)\n",
    "spacy.displacy.render(doc, style='ent', jupyter=True, options=options)\n",
    "[(ent.text, ent.label_) for ent in doc.ents]"
   ],
   "metadata": {
    "collapsed": false,
    "ExecuteTime": {
     "end_time": "2024-10-22T14:59:43.960248700Z",
     "start_time": "2024-10-22T14:59:43.846003100Z"
    }
   },
   "id": "e6ae75395a72c0be"
  }
 ],
 "metadata": {
  "kernelspec": {
   "display_name": "Python 3",
   "language": "python",
   "name": "python3"
  },
  "language_info": {
   "codemirror_mode": {
    "name": "ipython",
    "version": 2
   },
   "file_extension": ".py",
   "mimetype": "text/x-python",
   "name": "python",
   "nbconvert_exporter": "python",
   "pygments_lexer": "ipython2",
   "version": "2.7.6"
  }
 },
 "nbformat": 4,
 "nbformat_minor": 5
}
