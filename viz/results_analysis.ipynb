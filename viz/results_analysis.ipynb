{
 "cells": [
  {
   "cell_type": "markdown",
   "source": [
    "To reflect the reasons that led to the problematic results through numerical analysis, we will try quantifying and visualizing the challenges in the current pipeline."
   ],
   "metadata": {
    "collapsed": false
   },
   "id": "99397b1cd8401047"
  },
  {
   "cell_type": "code",
   "execution_count": 118,
   "outputs": [],
   "source": [
    "import numpy as np\n",
    "import pandas as pd\n",
    "import matplotlib.pyplot as plt\n",
    "import pandas as pd\n",
    "from sklearn.manifold import TSNE\n",
    "from sklearn.decomposition import PCA\n",
    "import seaborn as sns\n",
    "from scipy.stats import ttest_ind, f_oneway"
   ],
   "metadata": {
    "collapsed": false,
    "ExecuteTime": {
     "end_time": "2024-11-23T15:51:56.459870700Z",
     "start_time": "2024-11-23T15:51:56.438731800Z"
    }
   },
   "id": "c8f9077aacc6d324"
  },
  {
   "cell_type": "markdown",
   "source": [
    "## Test"
   ],
   "metadata": {
    "collapsed": false
   },
   "id": "53297b1a93dada9b"
  },
  {
   "cell_type": "code",
   "execution_count": 120,
   "outputs": [
    {
     "data": {
      "text/plain": "                                              question  \\\n0    The best finish line for anterior metal cerami...   \n1            Access cavity of mandibular 1st molar is:   \n2    Which of the following muscle is not supplied ...   \n3            A person of eonism derives pleasure from.   \n4    18 year old female presents with an ovarian ma...   \n..                                                 ...   \n828      Mandibular process of each side fuse to form:   \n829  Keyhole-shaped visual field defect is seen in ...   \n830  A 32 weeks pregnant female presented with labo...   \n831  Calcification of roots of deciduous teeth is c...   \n832  Pick out odd drugs for anaesthetic emergencies...   \n\n                              answer answer_index  \\\n0                Shoulder with bevel          opd   \n1                   Rounded triangle          opb   \n2                   Superior oblique          opa   \n3    Wearing clothes of opposite sex          opa   \n4                       Dysgerminoma          opa   \n..                               ...          ...   \n828                            Both.          opc   \n829          Lateral geniculate body          opc   \n830                   Preterm labour          opa   \n831                          4 years          opb   \n832                      Amoxycillin          opd   \n\n                                 opa                       opb  \\\n0                 Chamfer with bevel             Heavy chamfer   \n1                               Oval          Rounded triangle   \n2                   Superior oblique             Medial rectus   \n3    Wearing clothes of opposite sex  Fondling female body pas   \n4                       Dysgerminoma    Endodermal sinus tumor   \n..                               ...                       ...   \n828                       Lower lip.                Lower jaw.   \n829                       Optic disk             Optic chiasma   \n830                   Preterm labour                      IUGR   \n831                          2 years                   4 years   \n832                    AminophylLine               Epinephrine   \n\n                                                opc  \\\n0                                          Shoulder   \n1                                          Rhomboid   \n2                                   Inferior rectus   \n3    Rubbing genitalia against body of other person   \n4                               Malignant terratoma   \n..                                              ...   \n828                                           Both.   \n829                         Lateral geniculate body   \n830                                             IUD   \n831                                         6 years   \n832                               Atropine sulphate   \n\n                                opd  \\\n0               Shoulder with bevel   \n1                 None of the above   \n2                  Inferior oblique   \n3    Seeing the opposite paner nude   \n4      Mucinous cystadeno carcinoma   \n..                              ...   \n828                           None.   \n829                  Occipital lobe   \n830              Cervical infection   \n831                         8 years   \n832                     Amoxycillin   \n\n                                 generated_explanation  \\\n0    The best finish line for anterior metal cerami...   \n1    Access cavity of mandibular 1st molar is: Roun...   \n2    Which of the following muscle is not supplied ...   \n3    A person of eonism derives pleasure from. Wear...   \n4    18 year old female presents with an ovarian ma...   \n..                                                 ...   \n828  Mandibular process of each side fuse to form: ...   \n829  Keyhole-shaped visual field defect is seen in ...   \n830  A 32 weeks pregnant female presented with labo...   \n831  Calcification of roots of deciduous teeth is c...   \n832  Pick out odd drugs for anaesthetic emergencies...   \n\n                                          mod_question  \n0    0      The best finish line for anterior metal...  \n1    0      The best finish line for anterior metal...  \n2    0      The best finish line for anterior metal...  \n3    0      The best finish line for anterior metal...  \n4    0      The best finish line for anterior metal...  \n..                                                 ...  \n828  0      The best finish line for anterior metal...  \n829  0      The best finish line for anterior metal...  \n830  0      The best finish line for anterior metal...  \n831  0      The best finish line for anterior metal...  \n832  0      The best finish line for anterior metal...  \n\n[833 rows x 9 columns]",
      "text/html": "<div>\n<style scoped>\n    .dataframe tbody tr th:only-of-type {\n        vertical-align: middle;\n    }\n\n    .dataframe tbody tr th {\n        vertical-align: top;\n    }\n\n    .dataframe thead th {\n        text-align: right;\n    }\n</style>\n<table border=\"1\" class=\"dataframe\">\n  <thead>\n    <tr style=\"text-align: right;\">\n      <th></th>\n      <th>question</th>\n      <th>answer</th>\n      <th>answer_index</th>\n      <th>opa</th>\n      <th>opb</th>\n      <th>opc</th>\n      <th>opd</th>\n      <th>generated_explanation</th>\n      <th>mod_question</th>\n    </tr>\n  </thead>\n  <tbody>\n    <tr>\n      <th>0</th>\n      <td>The best finish line for anterior metal cerami...</td>\n      <td>Shoulder with bevel</td>\n      <td>opd</td>\n      <td>Chamfer with bevel</td>\n      <td>Heavy chamfer</td>\n      <td>Shoulder</td>\n      <td>Shoulder with bevel</td>\n      <td>The best finish line for anterior metal cerami...</td>\n      <td>0      The best finish line for anterior metal...</td>\n    </tr>\n    <tr>\n      <th>1</th>\n      <td>Access cavity of mandibular 1st molar is:</td>\n      <td>Rounded triangle</td>\n      <td>opb</td>\n      <td>Oval</td>\n      <td>Rounded triangle</td>\n      <td>Rhomboid</td>\n      <td>None of the above</td>\n      <td>Access cavity of mandibular 1st molar is: Roun...</td>\n      <td>0      The best finish line for anterior metal...</td>\n    </tr>\n    <tr>\n      <th>2</th>\n      <td>Which of the following muscle is not supplied ...</td>\n      <td>Superior oblique</td>\n      <td>opa</td>\n      <td>Superior oblique</td>\n      <td>Medial rectus</td>\n      <td>Inferior rectus</td>\n      <td>Inferior oblique</td>\n      <td>Which of the following muscle is not supplied ...</td>\n      <td>0      The best finish line for anterior metal...</td>\n    </tr>\n    <tr>\n      <th>3</th>\n      <td>A person of eonism derives pleasure from.</td>\n      <td>Wearing clothes of opposite sex</td>\n      <td>opa</td>\n      <td>Wearing clothes of opposite sex</td>\n      <td>Fondling female body pas</td>\n      <td>Rubbing genitalia against body of other person</td>\n      <td>Seeing the opposite paner nude</td>\n      <td>A person of eonism derives pleasure from. Wear...</td>\n      <td>0      The best finish line for anterior metal...</td>\n    </tr>\n    <tr>\n      <th>4</th>\n      <td>18 year old female presents with an ovarian ma...</td>\n      <td>Dysgerminoma</td>\n      <td>opa</td>\n      <td>Dysgerminoma</td>\n      <td>Endodermal sinus tumor</td>\n      <td>Malignant terratoma</td>\n      <td>Mucinous cystadeno carcinoma</td>\n      <td>18 year old female presents with an ovarian ma...</td>\n      <td>0      The best finish line for anterior metal...</td>\n    </tr>\n    <tr>\n      <th>...</th>\n      <td>...</td>\n      <td>...</td>\n      <td>...</td>\n      <td>...</td>\n      <td>...</td>\n      <td>...</td>\n      <td>...</td>\n      <td>...</td>\n      <td>...</td>\n    </tr>\n    <tr>\n      <th>828</th>\n      <td>Mandibular process of each side fuse to form:</td>\n      <td>Both.</td>\n      <td>opc</td>\n      <td>Lower lip.</td>\n      <td>Lower jaw.</td>\n      <td>Both.</td>\n      <td>None.</td>\n      <td>Mandibular process of each side fuse to form: ...</td>\n      <td>0      The best finish line for anterior metal...</td>\n    </tr>\n    <tr>\n      <th>829</th>\n      <td>Keyhole-shaped visual field defect is seen in ...</td>\n      <td>Lateral geniculate body</td>\n      <td>opc</td>\n      <td>Optic disk</td>\n      <td>Optic chiasma</td>\n      <td>Lateral geniculate body</td>\n      <td>Occipital lobe</td>\n      <td>Keyhole-shaped visual field defect is seen in ...</td>\n      <td>0      The best finish line for anterior metal...</td>\n    </tr>\n    <tr>\n      <th>830</th>\n      <td>A 32 weeks pregnant female presented with labo...</td>\n      <td>Preterm labour</td>\n      <td>opa</td>\n      <td>Preterm labour</td>\n      <td>IUGR</td>\n      <td>IUD</td>\n      <td>Cervical infection</td>\n      <td>A 32 weeks pregnant female presented with labo...</td>\n      <td>0      The best finish line for anterior metal...</td>\n    </tr>\n    <tr>\n      <th>831</th>\n      <td>Calcification of roots of deciduous teeth is c...</td>\n      <td>4 years</td>\n      <td>opb</td>\n      <td>2 years</td>\n      <td>4 years</td>\n      <td>6 years</td>\n      <td>8 years</td>\n      <td>Calcification of roots of deciduous teeth is c...</td>\n      <td>0      The best finish line for anterior metal...</td>\n    </tr>\n    <tr>\n      <th>832</th>\n      <td>Pick out odd drugs for anaesthetic emergencies...</td>\n      <td>Amoxycillin</td>\n      <td>opd</td>\n      <td>AminophylLine</td>\n      <td>Epinephrine</td>\n      <td>Atropine sulphate</td>\n      <td>Amoxycillin</td>\n      <td>Pick out odd drugs for anaesthetic emergencies...</td>\n      <td>0      The best finish line for anterior metal...</td>\n    </tr>\n  </tbody>\n</table>\n<p>833 rows × 9 columns</p>\n</div>"
     },
     "execution_count": 120,
     "metadata": {},
     "output_type": "execute_result"
    }
   ],
   "source": [
    "path = \"../src/data/medmcqa/test.json\"\n",
    "test_set = pd.read_json(path)\n",
    "test_set['mod_question'] = f\"for the given question, choose the correct answer from the options list. \\n\\nquestion: {test_set['question']}\\n\\noptions list: [option_a:{test_set['opa']},option_b:{test_set['opb']},option_c:{test_set['opc']},option_d:{test_set['opd']}]\\n\\n\"\n",
    "test_set"
   ],
   "metadata": {
    "collapsed": false,
    "ExecuteTime": {
     "end_time": "2024-11-23T15:55:09.569975600Z",
     "start_time": "2024-11-23T15:55:09.521949100Z"
    }
   },
   "id": "af5012edb64356e7"
  },
  {
   "cell_type": "code",
   "execution_count": 121,
   "outputs": [
    {
     "data": {
      "text/plain": "                                              question  \\\n0    The best finish line for anterior metal cerami...   \n1            Access cavity of mandibular 1st molar is:   \n2    Which of the following muscle is not supplied ...   \n3            A person of eonism derives pleasure from.   \n4    18 year old female presents with an ovarian ma...   \n..                                                 ...   \n828      Mandibular process of each side fuse to form:   \n829  Keyhole-shaped visual field defect is seen in ...   \n830  A 32 weeks pregnant female presented with labo...   \n831  Calcification of roots of deciduous teeth is c...   \n832  Pick out odd drugs for anaesthetic emergencies...   \n\n                              answer answer_index  \\\n0                Shoulder with bevel          opd   \n1                   Rounded triangle          opb   \n2                   Superior oblique          opa   \n3    Wearing clothes of opposite sex          opa   \n4                       Dysgerminoma          opa   \n..                               ...          ...   \n828                            Both.          opc   \n829          Lateral geniculate body          opc   \n830                   Preterm labour          opa   \n831                          4 years          opb   \n832                      Amoxycillin          opd   \n\n                                 opa                       opb  \\\n0                 Chamfer with bevel             Heavy chamfer   \n1                               Oval          Rounded triangle   \n2                   Superior oblique             Medial rectus   \n3    Wearing clothes of opposite sex  Fondling female body pas   \n4                       Dysgerminoma    Endodermal sinus tumor   \n..                               ...                       ...   \n828                       Lower lip.                Lower jaw.   \n829                       Optic disk             Optic chiasma   \n830                   Preterm labour                      IUGR   \n831                          2 years                   4 years   \n832                    AminophylLine               Epinephrine   \n\n                                                opc  \\\n0                                          Shoulder   \n1                                          Rhomboid   \n2                                   Inferior rectus   \n3    Rubbing genitalia against body of other person   \n4                               Malignant terratoma   \n..                                              ...   \n828                                           Both.   \n829                         Lateral geniculate body   \n830                                             IUD   \n831                                         6 years   \n832                               Atropine sulphate   \n\n                                opd  \\\n0               Shoulder with bevel   \n1                 None of the above   \n2                  Inferior oblique   \n3    Seeing the opposite paner nude   \n4      Mucinous cystadeno carcinoma   \n..                              ...   \n828                           None.   \n829                  Occipital lobe   \n830              Cervical infection   \n831                         8 years   \n832                     Amoxycillin   \n\n                                 generated_explanation  \\\n0    The best finish line for anterior metal cerami...   \n1    Access cavity of mandibular 1st molar is: Roun...   \n2    Which of the following muscle is not supplied ...   \n3    A person of eonism derives pleasure from. Wear...   \n4    18 year old female presents with an ovarian ma...   \n..                                                 ...   \n828  Mandibular process of each side fuse to form: ...   \n829  Keyhole-shaped visual field defect is seen in ...   \n830  A 32 weeks pregnant female presented with labo...   \n831  Calcification of roots of deciduous teeth is c...   \n832  Pick out odd drugs for anaesthetic emergencies...   \n\n                                          mod_question  \n0    for the given question, choose the correct ans...  \n1    for the given question, choose the correct ans...  \n2    for the given question, choose the correct ans...  \n3    for the given question, choose the correct ans...  \n4    for the given question, choose the correct ans...  \n..                                                 ...  \n828  for the given question, choose the correct ans...  \n829  for the given question, choose the correct ans...  \n830  for the given question, choose the correct ans...  \n831  for the given question, choose the correct ans...  \n832  for the given question, choose the correct ans...  \n\n[833 rows x 9 columns]",
      "text/html": "<div>\n<style scoped>\n    .dataframe tbody tr th:only-of-type {\n        vertical-align: middle;\n    }\n\n    .dataframe tbody tr th {\n        vertical-align: top;\n    }\n\n    .dataframe thead th {\n        text-align: right;\n    }\n</style>\n<table border=\"1\" class=\"dataframe\">\n  <thead>\n    <tr style=\"text-align: right;\">\n      <th></th>\n      <th>question</th>\n      <th>answer</th>\n      <th>answer_index</th>\n      <th>opa</th>\n      <th>opb</th>\n      <th>opc</th>\n      <th>opd</th>\n      <th>generated_explanation</th>\n      <th>mod_question</th>\n    </tr>\n  </thead>\n  <tbody>\n    <tr>\n      <th>0</th>\n      <td>The best finish line for anterior metal cerami...</td>\n      <td>Shoulder with bevel</td>\n      <td>opd</td>\n      <td>Chamfer with bevel</td>\n      <td>Heavy chamfer</td>\n      <td>Shoulder</td>\n      <td>Shoulder with bevel</td>\n      <td>The best finish line for anterior metal cerami...</td>\n      <td>for the given question, choose the correct ans...</td>\n    </tr>\n    <tr>\n      <th>1</th>\n      <td>Access cavity of mandibular 1st molar is:</td>\n      <td>Rounded triangle</td>\n      <td>opb</td>\n      <td>Oval</td>\n      <td>Rounded triangle</td>\n      <td>Rhomboid</td>\n      <td>None of the above</td>\n      <td>Access cavity of mandibular 1st molar is: Roun...</td>\n      <td>for the given question, choose the correct ans...</td>\n    </tr>\n    <tr>\n      <th>2</th>\n      <td>Which of the following muscle is not supplied ...</td>\n      <td>Superior oblique</td>\n      <td>opa</td>\n      <td>Superior oblique</td>\n      <td>Medial rectus</td>\n      <td>Inferior rectus</td>\n      <td>Inferior oblique</td>\n      <td>Which of the following muscle is not supplied ...</td>\n      <td>for the given question, choose the correct ans...</td>\n    </tr>\n    <tr>\n      <th>3</th>\n      <td>A person of eonism derives pleasure from.</td>\n      <td>Wearing clothes of opposite sex</td>\n      <td>opa</td>\n      <td>Wearing clothes of opposite sex</td>\n      <td>Fondling female body pas</td>\n      <td>Rubbing genitalia against body of other person</td>\n      <td>Seeing the opposite paner nude</td>\n      <td>A person of eonism derives pleasure from. Wear...</td>\n      <td>for the given question, choose the correct ans...</td>\n    </tr>\n    <tr>\n      <th>4</th>\n      <td>18 year old female presents with an ovarian ma...</td>\n      <td>Dysgerminoma</td>\n      <td>opa</td>\n      <td>Dysgerminoma</td>\n      <td>Endodermal sinus tumor</td>\n      <td>Malignant terratoma</td>\n      <td>Mucinous cystadeno carcinoma</td>\n      <td>18 year old female presents with an ovarian ma...</td>\n      <td>for the given question, choose the correct ans...</td>\n    </tr>\n    <tr>\n      <th>...</th>\n      <td>...</td>\n      <td>...</td>\n      <td>...</td>\n      <td>...</td>\n      <td>...</td>\n      <td>...</td>\n      <td>...</td>\n      <td>...</td>\n      <td>...</td>\n    </tr>\n    <tr>\n      <th>828</th>\n      <td>Mandibular process of each side fuse to form:</td>\n      <td>Both.</td>\n      <td>opc</td>\n      <td>Lower lip.</td>\n      <td>Lower jaw.</td>\n      <td>Both.</td>\n      <td>None.</td>\n      <td>Mandibular process of each side fuse to form: ...</td>\n      <td>for the given question, choose the correct ans...</td>\n    </tr>\n    <tr>\n      <th>829</th>\n      <td>Keyhole-shaped visual field defect is seen in ...</td>\n      <td>Lateral geniculate body</td>\n      <td>opc</td>\n      <td>Optic disk</td>\n      <td>Optic chiasma</td>\n      <td>Lateral geniculate body</td>\n      <td>Occipital lobe</td>\n      <td>Keyhole-shaped visual field defect is seen in ...</td>\n      <td>for the given question, choose the correct ans...</td>\n    </tr>\n    <tr>\n      <th>830</th>\n      <td>A 32 weeks pregnant female presented with labo...</td>\n      <td>Preterm labour</td>\n      <td>opa</td>\n      <td>Preterm labour</td>\n      <td>IUGR</td>\n      <td>IUD</td>\n      <td>Cervical infection</td>\n      <td>A 32 weeks pregnant female presented with labo...</td>\n      <td>for the given question, choose the correct ans...</td>\n    </tr>\n    <tr>\n      <th>831</th>\n      <td>Calcification of roots of deciduous teeth is c...</td>\n      <td>4 years</td>\n      <td>opb</td>\n      <td>2 years</td>\n      <td>4 years</td>\n      <td>6 years</td>\n      <td>8 years</td>\n      <td>Calcification of roots of deciduous teeth is c...</td>\n      <td>for the given question, choose the correct ans...</td>\n    </tr>\n    <tr>\n      <th>832</th>\n      <td>Pick out odd drugs for anaesthetic emergencies...</td>\n      <td>Amoxycillin</td>\n      <td>opd</td>\n      <td>AminophylLine</td>\n      <td>Epinephrine</td>\n      <td>Atropine sulphate</td>\n      <td>Amoxycillin</td>\n      <td>Pick out odd drugs for anaesthetic emergencies...</td>\n      <td>for the given question, choose the correct ans...</td>\n    </tr>\n  </tbody>\n</table>\n<p>833 rows × 9 columns</p>\n</div>"
     },
     "execution_count": 121,
     "metadata": {},
     "output_type": "execute_result"
    }
   ],
   "source": [
    "test_set['mod_question'] = test_set.apply(\n",
    "    lambda row: f\"For the given question, choose the correct answer from the options_list.\\n\\n\"\n",
    "                f\"question: {row['question']}\\n\\n\"\n",
    "                f\"options_list: [option_a:{row['opa']},option_b:{row['opb']},option_c:{row['opc']},option_d:{row['opd']}]\\n\\n\",\n",
    "    axis=1\n",
    ")\n",
    "test_set.to_csv('mini_test.csv',index=False)\n",
    "test_set['benchmark_answer'] = test_set['mod_question'].apply(lambda x: generate_response(x))"
   ],
   "metadata": {
    "collapsed": false,
    "ExecuteTime": {
     "end_time": "2024-11-23T15:57:28.517376800Z",
     "start_time": "2024-11-23T15:57:28.499468400Z"
    }
   },
   "id": "e865b4d5dc913713"
  },
  {
   "cell_type": "code",
   "execution_count": null,
   "outputs": [],
   "source": [],
   "metadata": {
    "collapsed": false
   },
   "id": "fa1e67dbd7a742a1"
  },
  {
   "cell_type": "markdown",
   "source": [
    "#### Analyze Entities"
   ],
   "metadata": {
    "collapsed": false
   },
   "id": "d4ca47173fbdf26c"
  },
  {
   "cell_type": "code",
   "execution_count": 117,
   "outputs": [
    {
     "name": "stdout",
     "output_type": "stream",
     "text": [
      "====================================================\n",
      "Found 517 / 3330 records with MEDICATION != NaN\n",
      "Found 25 duplicated records based on MEDICATION\n",
      "====================================================\n",
      "Found 1025 / 3330 records with SIGN_SYMPTOM != NaN\n",
      "Found 32 duplicated records based on SIGN_SYMPTOM\n",
      "====================================================\n",
      "Found 1449 / 3330 records with BIOLOGICAL_STRUCTURE != NaN\n",
      "Found 61 duplicated records based on BIOLOGICAL_STRUCTURE\n",
      "====================================================\n",
      "Found 1403 / 3330 records with DISEASE_DISORDER != NaN\n",
      "Found 66 duplicated records based on DISEASE_DISORDER\n",
      "====================================================\n",
      "Clean DataFrame : 3061 records (3330 records originaly)\n"
     ]
    }
   ],
   "source": [
    "path = \"../src/data/medmcqa/dfs/short_corpus_entities.csv\"\n",
    "short_qa = pd.read_csv(path, index_col='id')\n",
    "num_records = short_qa.shape[0]\n",
    "cols = [(i, col) for i, col in enumerate(short_qa.columns) if col not in ['text', 'id', 'AGE', 'SEX']]\n",
    "uniques_list = []\n",
    "unique_entities_dict = {}\n",
    "print(\"====================================================\")\n",
    "for i, col in cols:\n",
    "    not_na = short_qa[~short_qa.iloc[:, i].isna()]\n",
    "\n",
    "    print(f\"Found {not_na.shape[0]} / {num_records} records with {col} != NaN\")\n",
    "    rep_mask = not_na.iloc[:, i].value_counts() >= 2\n",
    "    len_mask = not_na.iloc[:, i].apply(lambda x: len(x) > 2)\n",
    "    rep_df = not_na[not_na.iloc[:, i].isin(rep_mask[rep_mask].index)]\n",
    "    if rep_df.shape[0] == 0:\n",
    "        print(f\"No duplicates found for {col}\")\n",
    "        continue\n",
    "    rep_df = rep_df[rep_df.iloc[:, i].apply(lambda x: len(x) > 2)]\n",
    "    uniques_df = rep_df[rep_df[col].duplicated(keep='last')]\n",
    "    dup_count = rep_df.shape[0] - uniques_df.shape[0]\n",
    "    uniques_list.extend(uniques_df.index)\n",
    "    print(f\"Found {dup_count} duplicated records based on {col}\")\n",
    "    print(\"====================================================\")\n",
    "\n",
    "    unique_values = set()\n",
    "    for items in not_na[col].apply(lambda x: eval(x)):\n",
    "        unique_values.update(items)\n",
    "    unique_entities_dict[col] = unique_values\n",
    "clean_df = short_qa[~short_qa.index.isin(uniques_list)]\n",
    "\n",
    "print(f\"Clean DataFrame : {clean_df.shape[0]} records ({num_records} records originaly)\\n\")\n",
    "print(\"\\n\")\n",
    "#print(f\"Unique entities: {unique_entities_dict}\")"
   ],
   "metadata": {
    "collapsed": false,
    "ExecuteTime": {
     "end_time": "2024-11-22T15:04:28.268071300Z",
     "start_time": "2024-11-22T15:04:28.155040300Z"
    }
   },
   "id": "28af993c084ea665"
  },
  {
   "cell_type": "code",
   "execution_count": null,
   "outputs": [],
   "source": [
    "def HITS(original_query: str, retrieved_k_docs: list, n: int):\n",
    "    \"\"\"\n",
    "    Rerank the top k retrieved documents using the HITS algorithm.\n",
    "    :param n: number of documents to return\n",
    "    :param original_query:  original query string\n",
    "    :param retrieved_k_docs: List of dictionaries containing 'id' and 'metadata' for retrieved documents.\n",
    "                             Each document metadata should contain a list of references or related documents.\n",
    "    :return: A list of the n most relevant documents (sorted by authority scores).\n",
    "    \"\"\"\n",
    "    G = nx.DiGraph()\n",
    "\n",
    "    for doc in retrieved_k_docs:\n",
    "        doc_id = doc['id']\n",
    "        G.add_node(doc_id, metadata=doc.get('metadata', {}))\n",
    "\n",
    "    for doc in retrieved_k_docs:\n",
    "        doc_id = doc['id']\n",
    "        related_docs = retrieve_from_index(doc['metadata']['text'])\n",
    "        for r_doc in related_docs:\n",
    "            related_doc_id = r_doc['id']\n",
    "            if related_doc_id in G.nodes:\n",
    "                G.add_edge(doc_id, related_doc_id)\n",
    "\n",
    "    hits_scores = nx.hits(G, normalized=True)\n",
    "    authority_scores = hits_scores[1]\n",
    "\n",
    "    ranked_docs = sorted(retrieved_k_docs, key=lambda doc: authority_scores.get(doc['id'], 0), reverse=True)\n",
    "\n",
    "    return ranked_docs[:n]"
   ],
   "metadata": {
    "collapsed": false
   },
   "id": "443e32aace54a6af"
  },
  {
   "cell_type": "markdown",
   "source": [
    "### Analyze the Embedding Space\n",
    "Visualize Embeddings: Use dimensionality reduction techniques like t-SNE or UMAP to project the embeddings into 2D or 3D space. Highlight embeddings from different corpora to assess clustering or separation.\n",
    "Similarity Distribution: Compute cosine similarity between embeddings of the retrieved documents and the query. Plot histograms or distributions for \"relevant\" and \"irrelevant\" documents to show overlaps or inconsistencies."
   ],
   "metadata": {
    "collapsed": false
   },
   "id": "db017f747b2584f2"
  },
  {
   "cell_type": "code",
   "execution_count": null,
   "outputs": [],
   "source": [
    "def visualize_embeddings(embeddings, labels, method='tsne'):\n",
    "    \"\"\"\n",
    "    Project the embeddings into 2D or 3D space by utilizing dimensionality reduction techniques\n",
    "    :param embeddings: \n",
    "    :param labels: \n",
    "    :param method: \n",
    "    :return: \n",
    "    \"\"\"\n",
    "    if method == 'tsne':\n",
    "        reducer = TSNE(n_components=2, random_state=42)\n",
    "    elif method == 'pca':\n",
    "        reducer = PCA(n_components=2)\n",
    "    else:\n",
    "        raise ValueError(\"Unsupported method. Use 'tsne' or 'pca'.\")\n",
    "\n",
    "    reduced = reducer.fit_transform(embeddings)\n",
    "    plt.figure(figsize=(10, 6))\n",
    "    for label in set(labels):\n",
    "        indices = np.where(labels == label)\n",
    "        plt.scatter(reduced[indices, 0], reduced[indices, 1], label=f'Corpus {label}', alpha=0.6)\n",
    "    plt.legend()\n",
    "    plt.title(f'Embedding Visualization ({method.upper()})')\n",
    "    plt.show()"
   ],
   "metadata": {
    "collapsed": false
   },
   "id": "181a16dcade9c119"
  },
  {
   "cell_type": "markdown",
   "source": [
    "#### Similarity Distribution: \n",
    "Compute cosine similarity between embeddings of the retrieved documents and the query. Plot histograms or distributions for \"relevant\" and \"irrelevant\" documents to show overlaps or inconsistencies."
   ],
   "metadata": {
    "collapsed": false
   },
   "id": "d677610dde771979"
  },
  {
   "cell_type": "code",
   "execution_count": null,
   "outputs": [],
   "source": [
    "def plot_similarity_distribution(query_embedding, document_embeddings, relevance_labels):\n",
    "    \"\"\"\n",
    "    Computes cosine similarity between a query and document embeddings, and plots similarity \n",
    "    distributions for relevant and irrelevant documents.\n",
    "    :param query_embedding: np.array,(d, ) the embedding vector for the query.\n",
    "    :param document_embeddings: np.array, shape (n, d) the embedding vectors for the retrieved documents.\n",
    "    :param relevance_labels: np.array, shape (n, ) binary relevance labels (1 for relevant, 0 for irrelevant).\n",
    "    \"\"\"\n",
    "\n",
    "    similarities = cosine_similarity(document_embeddings, query_embedding.reshape(1, -1)).flatten()\n",
    "    relevant_similarities = similarities[relevance_labels == 1]\n",
    "    irrelevant_similarities = similarities[relevance_labels == 0]\n",
    "\n",
    "    plt.figure(figsize=(10, 6))\n",
    "    plt.hist(relevant_similarities, bins=20, alpha=0.6, color='green', label='Relevant')\n",
    "    plt.hist(irrelevant_similarities, bins=20, alpha=0.6, color='red', label='Irrelevant')\n",
    "    plt.axvline(np.mean(relevant_similarities), color='green', linestyle='--', label='Mean Relevant')\n",
    "    plt.axvline(np.mean(irrelevant_similarities), color='red', linestyle='--', label='Mean Irrelevant')\n",
    "    plt.title(\"Cosine Similarity Distribution for Relevant and Irrelevant Documents\")\n",
    "    plt.xlabel(\"Cosine Similarity\")\n",
    "    plt.ylabel(\"Frequency\")\n",
    "    plt.legend()\n",
    "    plt.show()"
   ],
   "metadata": {
    "collapsed": false
   },
   "id": "fc0a382c1ba8111a"
  },
  {
   "cell_type": "code",
   "execution_count": null,
   "outputs": [],
   "source": [
    "def compute_relevance_scores(query_entities, doc_entities_list):\n",
    "    \"\"\"\n",
    "    Compute relevance scores based on the normalized number of shared entities \n",
    "    between the query and each document.\n",
    "\n",
    "    :param query_entities: A list of entities in the query.\n",
    "    :param doc_entities_list: A list where each element is a list of \n",
    "      entities for a specific document.\n",
    "    :return: list: Normalized relevance scores for each document.\n",
    "    \"\"\"\n",
    "    query_set = set(query_entities)\n",
    "    scores = []\n",
    "\n",
    "    for doc_entities in doc_entities_list:\n",
    "        doc_set = set(doc_entities)\n",
    "        shared_entities = query_set.intersection(doc_set)\n",
    "\n",
    "        normalization_factor = len(query_set.union(doc_set))\n",
    "        score = len(shared_entities) / normalization_factor if normalization_factor > 0 else 0\n",
    "        scores.append(score)\n",
    "\n",
    "    return scores"
   ],
   "metadata": {
    "collapsed": false
   },
   "id": "937d207c6c6c0aab"
  },
  {
   "cell_type": "code",
   "execution_count": null,
   "outputs": [],
   "source": [
    "query_embedding = model.encode(query).tolist()\n",
    "documents_embeddings, documents_scores, relevanc_labels = [], [], []\n",
    "docs_dict = dict()\n",
    "for i, doc in retrived_docs:\n",
    "    doc_id = doc['id']\n",
    "    doc_embedding = doc['embedding']\n",
    "    document_score = doc['score']\n",
    "    relevance_score = get_relevance_score(doc)\n",
    "    document_embeddings.append(doc['embedding'])\n",
    "    relevance_labels.append(relevance_score)\n",
    "    docs_dict[doc_id] = [document_score, relevance_score]\n",
    "\n",
    "docs_df = pd.from_dict(docs_dict)\n",
    "plot_similarity_distribution(query_embedding, document_embeddings, relevanc_labels)"
   ],
   "metadata": {
    "collapsed": false
   },
   "id": "5fe9d79a5d52a1be"
  },
  {
   "cell_type": "markdown",
   "source": [
    "#### Token Distribution"
   ],
   "metadata": {
    "collapsed": false
   },
   "id": "6ab5ffeb5b96edb5"
  },
  {
   "cell_type": "code",
   "execution_count": null,
   "outputs": [],
   "source": [
    "def plot_token_length_distribution(token_lengths, labels):\n",
    "    plt.figure(figsize=(10, 6))\n",
    "    sns.boxplot(x=labels, y=token_lengths)\n",
    "    plt.xlabel(\"Corpus\")\n",
    "    plt.ylabel(\"Token Length\")\n",
    "    plt.title(\"Token Length Distribution by Corpus\")\n",
    "    plt.show()"
   ],
   "metadata": {
    "collapsed": false
   },
   "id": "a56756ed4db7a72b"
  },
  {
   "cell_type": "markdown",
   "source": [
    "#### Noise in Embeddings"
   ],
   "metadata": {
    "collapsed": false
   },
   "id": "1ab71b6d03e930e4"
  },
  {
   "cell_type": "code",
   "execution_count": null,
   "outputs": [],
   "source": [
    "def compute_intra_corpus_similarity(embeddings, labels):\n",
    "    results = {}\n",
    "    for label in set(labels):\n",
    "        corpus_embeddings = embeddings[labels == label]\n",
    "        similarities = np.inner(corpus_embeddings, corpus_embeddings.T)\n",
    "        results[label] = np.mean(similarities)\n",
    "    return results\n",
    "\n",
    "\n",
    "def compute_cross_corpus_similarity(embeddings, labels):\n",
    "    unique_labels = set(labels)\n",
    "    results = {}\n",
    "    for i, label1 in enumerate(unique_labels):\n",
    "        for j, label2 in enumerate(unique_labels):\n",
    "            if j <= i:\n",
    "                continue\n",
    "            corpus1 = embeddings[labels == label1]\n",
    "            corpus2 = embeddings[labels == label2]\n",
    "            similarities = np.inner(corpus1, corpus2.T)\n",
    "            results[f'{label1}-{label2}'] = np.mean(similarities)\n",
    "    return results"
   ],
   "metadata": {
    "collapsed": false
   },
   "id": "af0fdc4cce809192"
  },
  {
   "cell_type": "markdown",
   "source": [
    "#### Relevance Scores"
   ],
   "metadata": {
    "collapsed": false
   },
   "id": "933d2d6781b2a0d7"
  },
  {
   "cell_type": "code",
   "execution_count": null,
   "outputs": [],
   "source": [
    "def plot_relevance_vs_similarity(scores, relevance_labels):\n",
    "    plt.figure(figsize=(10, 6))\n",
    "    plt.scatter(scores, relevance_labels, alpha=0.6)\n",
    "    plt.xlabel(\"Cosine Similarity Score\")\n",
    "    plt.ylabel(\"Relevance\")\n",
    "    plt.title(\"Relevance vs Cosine Similarity\")\n",
    "    plt.show()"
   ],
   "metadata": {
    "collapsed": false
   },
   "id": "632c4ab8f58ce459"
  },
  {
   "cell_type": "markdown",
   "source": [
    "#### Impact of Query Characteristics"
   ],
   "metadata": {
    "collapsed": false
   },
   "id": "559402cb6a53f557"
  },
  {
   "cell_type": "code",
   "execution_count": null,
   "outputs": [],
   "source": [
    "def analyze_query_performance(queries, scores, relevance, query_lengths):\n",
    "    import pandas as pd\n",
    "    df = pd.DataFrame({\n",
    "        'query': queries,\n",
    "        'length': query_lengths,\n",
    "        'score': scores,\n",
    "        'relevance': relevance\n",
    "    })\n",
    "    grouped = df.groupby('length').mean()\n",
    "    grouped[['score', 'relevance']].plot(kind='bar', figsize=(10, 6))\n",
    "    plt.title(\"Query Performance by Length\")\n",
    "    plt.show()"
   ],
   "metadata": {
    "collapsed": false
   },
   "id": "b62a87f9a1d5f836"
  },
  {
   "cell_type": "markdown",
   "source": [
    "#### Experiment with Baseline Models"
   ],
   "metadata": {
    "collapsed": false
   },
   "id": "dba0eaa2c2902ba9"
  },
  {
   "cell_type": "code",
   "execution_count": null,
   "outputs": [],
   "source": [
    "def compare_with_baseline(baseline_results, semantic_results, relevance_labels):\n",
    "    import sklearn.metrics as metrics\n",
    "    baseline_pr = metrics.precision_recall_curve(relevance_labels, baseline_results)\n",
    "    semantic_pr = metrics.precision_recall_curve(relevance_labels, semantic_results)\n",
    "\n",
    "    plt.plot(baseline_pr[1], baseline_pr[0], label=\"Baseline\")\n",
    "    plt.plot(semantic_pr[1], semantic_pr[0], label=\"Semantic Search\")\n",
    "    plt.xlabel(\"Recall\")\n",
    "    plt.ylabel(\"Precision\")\n",
    "    plt.title(\"Precision-Recall Curve\")\n",
    "    plt.legend()\n",
    "    plt.show()"
   ],
   "metadata": {
    "collapsed": false
   },
   "id": "ba2c17ae7247bb3"
  },
  {
   "cell_type": "markdown",
   "source": [
    "#### Statistical Tests"
   ],
   "metadata": {
    "collapsed": false
   },
   "id": "652f0d29c19704c7"
  },
  {
   "cell_type": "code",
   "execution_count": null,
   "outputs": [],
   "source": [
    "def perform_statistical_tests(data1, data2):\n",
    "    t_stat, t_p = ttest_ind(data1, data2, equal_var=False)\n",
    "    f_stat, f_p = f_oneway(data1, data2)\n",
    "    return {\"t_test\": {\"statistic\": t_stat, \"p_value\": t_p},\n",
    "            \"anova\": {\"statistic\": f_stat, \"p_value\": f_p}}"
   ],
   "metadata": {
    "collapsed": false
   },
   "id": "d0f0593ae9c27fbc"
  },
  {
   "cell_type": "markdown",
   "source": [
    "#### Document Contribution by Corpus"
   ],
   "metadata": {
    "collapsed": false
   },
   "id": "878e38f0832aab40"
  },
  {
   "cell_type": "code",
   "execution_count": null,
   "outputs": [],
   "source": [
    "def plot_document_contribution(corpus_labels, relevance_labels):\n",
    "    df = pd.DataFrame({\n",
    "        'corpus': corpus_labels,\n",
    "        'relevance': relevance_labels\n",
    "    })\n",
    "    relevance_by_corpus = df.groupby('corpus').mean()\n",
    "    relevance_by_corpus.plot(kind='bar', figsize=(10, 6))\n",
    "    plt.title(\"Document Contribution and Relevance by Corpus\")\n",
    "    plt.ylabel(\"Average Relevance\")\n",
    "    plt.show()"
   ],
   "metadata": {
    "collapsed": false
   },
   "id": "77f9ca7065ec4016"
  }
 ],
 "metadata": {
  "kernelspec": {
   "display_name": "Python 3",
   "language": "python",
   "name": "python3"
  },
  "language_info": {
   "codemirror_mode": {
    "name": "ipython",
    "version": 2
   },
   "file_extension": ".py",
   "mimetype": "text/x-python",
   "name": "python",
   "nbconvert_exporter": "python",
   "pygments_lexer": "ipython2",
   "version": "2.7.6"
  }
 },
 "nbformat": 4,
 "nbformat_minor": 5
}
